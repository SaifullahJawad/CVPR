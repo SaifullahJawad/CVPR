{
 "cells": [
  {
   "cell_type": "markdown",
   "metadata": {
    "_cell_guid": "b1076dfc-b9ad-4769-8c92-a6c4dae69d19",
    "_uuid": "8f2839f25d086af736a60e9eeb907d3b93b6e0e5",
    "execution": {
     "iopub.execute_input": "2021-07-15T08:42:23.474385Z",
     "iopub.status.busy": "2021-07-15T08:42:23.473906Z",
     "iopub.status.idle": "2021-07-15T08:42:23.483851Z",
     "shell.execute_reply": "2021-07-15T08:42:23.482931Z",
     "shell.execute_reply.started": "2021-07-15T08:42:23.474347Z"
    }
   },
   "source": [
    "# JAWAD, SAIFULLAH\n",
    "# 18-36818-1"
   ]
  },
  {
   "cell_type": "markdown",
   "metadata": {},
   "source": [
    "# Augmentation Efficiency Testing"
   ]
  },
  {
   "cell_type": "code",
   "execution_count": 1,
   "metadata": {
    "execution": {
     "iopub.execute_input": "2021-07-18T19:29:42.582589Z",
     "iopub.status.busy": "2021-07-18T19:29:42.582049Z",
     "iopub.status.idle": "2021-07-18T19:29:47.108703Z",
     "shell.execute_reply": "2021-07-18T19:29:47.107712Z",
     "shell.execute_reply.started": "2021-07-18T19:29:42.582491Z"
    }
   },
   "outputs": [],
   "source": [
    "import tensorflow as tf\n",
    "from tensorflow import keras\n",
    "from tensorflow.keras import layers\n",
    "from tensorflow.keras.datasets import cifar10\n",
    "from tensorflow.keras.callbacks import EarlyStopping\n",
    "from tensorflow.keras.preprocessing.image import ImageDataGenerator, load_img\n",
    "\n",
    "import os\n",
    "import numpy as np\n",
    "import matplotlib.pyplot as plt\n",
    "\n",
    "# ignore information messgaes from tensorflow, but we will receieve error messages\n",
    "os.environ['TFF_CPP_MIN_LOG_LEVEL'] = '2'\n",
    "\n",
    "%matplotlib inline"
   ]
  },
  {
   "cell_type": "code",
   "execution_count": 2,
   "metadata": {
    "execution": {
     "iopub.execute_input": "2021-07-18T19:29:47.112649Z",
     "iopub.status.busy": "2021-07-18T19:29:47.112347Z",
     "iopub.status.idle": "2021-07-18T19:29:53.659675Z",
     "shell.execute_reply": "2021-07-18T19:29:53.658581Z",
     "shell.execute_reply.started": "2021-07-18T19:29:47.112620Z"
    }
   },
   "outputs": [
    {
     "name": "stdout",
     "output_type": "stream",
     "text": [
      "Downloading data from https://www.cs.toronto.edu/~kriz/cifar-10-python.tar.gz\n",
      "170500096/170498071 [==============================] - 4s 0us/step\n",
      "(50000, 32, 32, 3) (50000, 1)\n",
      "(10000, 32, 32, 3) (10000, 1)\n"
     ]
    }
   ],
   "source": [
    "SEED = 1000\n",
    "\n",
    "(X_train, Y_train), (X_test, Y_test) = cifar10.load_data()\n",
    "print(X_train.shape, Y_train.shape)\n",
    "print(X_test.shape, Y_test.shape)"
   ]
  },
  {
   "cell_type": "code",
   "execution_count": 3,
   "metadata": {
    "execution": {
     "iopub.execute_input": "2021-07-18T19:29:53.662299Z",
     "iopub.status.busy": "2021-07-18T19:29:53.661703Z",
     "iopub.status.idle": "2021-07-18T19:29:53.669736Z",
     "shell.execute_reply": "2021-07-18T19:29:53.668712Z",
     "shell.execute_reply.started": "2021-07-18T19:29:53.662255Z"
    }
   },
   "outputs": [],
   "source": [
    "Y_train = keras.utils.to_categorical(Y_train)\n",
    "Y_test = keras.utils.to_categorical(Y_test)"
   ]
  },
  {
   "cell_type": "markdown",
   "metadata": {},
   "source": [
    "# Lesser Augmention"
   ]
  },
  {
   "cell_type": "code",
   "execution_count": 4,
   "metadata": {
    "execution": {
     "iopub.execute_input": "2021-07-18T19:29:53.671849Z",
     "iopub.status.busy": "2021-07-18T19:29:53.671506Z",
     "iopub.status.idle": "2021-07-18T19:29:53.957643Z",
     "shell.execute_reply": "2021-07-18T19:29:53.956467Z",
     "shell.execute_reply.started": "2021-07-18T19:29:53.671820Z"
    }
   },
   "outputs": [],
   "source": [
    "train_gen = ImageDataGenerator(\n",
    "    rotation_range=45,\n",
    "    width_shift_range=0.2,\n",
    "    height_shift_range=0.2,\n",
    "    shear_range=0.2,\n",
    "    zoom_range=0.3,\n",
    "    horizontal_flip=True,\n",
    "    vertical_flip=True,\n",
    "    fill_mode='nearest',\n",
    "    validation_split=0.2)\n",
    "\n",
    "test_gen = ImageDataGenerator(\n",
    "    rotation_range=45,\n",
    "    width_shift_range=0.2,\n",
    "    height_shift_range=0.2,\n",
    "    shear_range=0.2,\n",
    "    zoom_range=0.3,\n",
    "    horizontal_flip=True,\n",
    "    vertical_flip=True,\n",
    "    fill_mode='nearest')"
   ]
  },
  {
   "cell_type": "code",
   "execution_count": 5,
   "metadata": {
    "execution": {
     "iopub.execute_input": "2021-07-18T19:29:53.959390Z",
     "iopub.status.busy": "2021-07-18T19:29:53.959060Z",
     "iopub.status.idle": "2021-07-18T19:29:54.179555Z",
     "shell.execute_reply": "2021-07-18T19:29:54.178592Z",
     "shell.execute_reply.started": "2021-07-18T19:29:53.959361Z"
    }
   },
   "outputs": [],
   "source": [
    "BATCH_SIZE = 64\n",
    "\n",
    "train_batch = train_gen.flow(\n",
    "    X_train,Y_train,\n",
    "    batch_size = BATCH_SIZE,\n",
    "    subset = \"training\",\n",
    "    seed = SEED\n",
    ")\n",
    "\n",
    "valid_batch = train_gen.flow(\n",
    "    X_train,Y_train,\n",
    "    batch_size = BATCH_SIZE,\n",
    "    subset = \"validation\",\n",
    "    seed = SEED\n",
    ")\n",
    "\n",
    "test_batch = test_gen.flow(\n",
    "    X_test,Y_test,\n",
    "    batch_size = BATCH_SIZE,\n",
    "    seed = SEED,\n",
    "    shuffle = False\n",
    "    \n",
    ")"
   ]
  },
  {
   "cell_type": "code",
   "execution_count": 6,
   "metadata": {
    "execution": {
     "iopub.execute_input": "2021-07-18T19:29:54.183002Z",
     "iopub.status.busy": "2021-07-18T19:29:54.182272Z",
     "iopub.status.idle": "2021-07-18T19:29:56.277711Z",
     "shell.execute_reply": "2021-07-18T19:29:56.276922Z",
     "shell.execute_reply.started": "2021-07-18T19:29:54.182957Z"
    }
   },
   "outputs": [
    {
     "name": "stdout",
     "output_type": "stream",
     "text": [
      "Model: \"sequential\"\n",
      "_________________________________________________________________\n",
      "Layer (type)                 Output Shape              Param #   \n",
      "=================================================================\n",
      "conv2d (Conv2D)              (None, 32, 32, 64)        1792      \n",
      "_________________________________________________________________\n",
      "activation (Activation)      (None, 32, 32, 64)        0         \n",
      "_________________________________________________________________\n",
      "conv2d_1 (Conv2D)            (None, 32, 32, 64)        36928     \n",
      "_________________________________________________________________\n",
      "activation_1 (Activation)    (None, 32, 32, 64)        0         \n",
      "_________________________________________________________________\n",
      "max_pooling2d (MaxPooling2D) (None, 16, 16, 64)        0         \n",
      "_________________________________________________________________\n",
      "conv2d_2 (Conv2D)            (None, 16, 16, 128)       73856     \n",
      "_________________________________________________________________\n",
      "activation_2 (Activation)    (None, 16, 16, 128)       0         \n",
      "_________________________________________________________________\n",
      "conv2d_3 (Conv2D)            (None, 16, 16, 128)       147584    \n",
      "_________________________________________________________________\n",
      "activation_3 (Activation)    (None, 16, 16, 128)       0         \n",
      "_________________________________________________________________\n",
      "max_pooling2d_1 (MaxPooling2 (None, 8, 8, 128)         0         \n",
      "_________________________________________________________________\n",
      "conv2d_4 (Conv2D)            (None, 8, 8, 256)         295168    \n",
      "_________________________________________________________________\n",
      "activation_4 (Activation)    (None, 8, 8, 256)         0         \n",
      "_________________________________________________________________\n",
      "conv2d_5 (Conv2D)            (None, 8, 8, 256)         590080    \n",
      "_________________________________________________________________\n",
      "activation_5 (Activation)    (None, 8, 8, 256)         0         \n",
      "_________________________________________________________________\n",
      "conv2d_6 (Conv2D)            (None, 8, 8, 256)         590080    \n",
      "_________________________________________________________________\n",
      "activation_6 (Activation)    (None, 8, 8, 256)         0         \n",
      "_________________________________________________________________\n",
      "max_pooling2d_2 (MaxPooling2 (None, 4, 4, 256)         0         \n",
      "_________________________________________________________________\n",
      "conv2d_7 (Conv2D)            (None, 4, 4, 256)         590080    \n",
      "_________________________________________________________________\n",
      "activation_7 (Activation)    (None, 4, 4, 256)         0         \n",
      "_________________________________________________________________\n",
      "conv2d_8 (Conv2D)            (None, 4, 4, 256)         590080    \n",
      "_________________________________________________________________\n",
      "activation_8 (Activation)    (None, 4, 4, 256)         0         \n",
      "_________________________________________________________________\n",
      "conv2d_9 (Conv2D)            (None, 4, 4, 256)         590080    \n",
      "_________________________________________________________________\n",
      "activation_9 (Activation)    (None, 4, 4, 256)         0         \n",
      "_________________________________________________________________\n",
      "max_pooling2d_3 (MaxPooling2 (None, 2, 2, 256)         0         \n",
      "_________________________________________________________________\n",
      "flatten (Flatten)            (None, 1024)              0         \n",
      "_________________________________________________________________\n",
      "dense (Dense)                (None, 4096)              4198400   \n",
      "_________________________________________________________________\n",
      "activation_10 (Activation)   (None, 4096)              0         \n",
      "_________________________________________________________________\n",
      "dropout (Dropout)            (None, 4096)              0         \n",
      "_________________________________________________________________\n",
      "dense_1 (Dense)              (None, 4096)              16781312  \n",
      "_________________________________________________________________\n",
      "activation_11 (Activation)   (None, 4096)              0         \n",
      "_________________________________________________________________\n",
      "dropout_1 (Dropout)          (None, 4096)              0         \n",
      "_________________________________________________________________\n",
      "dense_2 (Dense)              (None, 10)                40970     \n",
      "_________________________________________________________________\n",
      "activation_12 (Activation)   (None, 10)                0         \n",
      "=================================================================\n",
      "Total params: 24,526,410\n",
      "Trainable params: 24,526,410\n",
      "Non-trainable params: 0\n",
      "_________________________________________________________________\n"
     ]
    }
   ],
   "source": [
    "first_vgg_16_model = keras.Sequential([\n",
    "    ## input layer\n",
    "    keras.Input(shape=X_train.shape[1:]),\n",
    "    \n",
    "    layers.Conv2D(filters=64, kernel_size=(3,3), strides=(1,1), padding='same'),\n",
    "    layers.Activation('relu'),\n",
    "    layers.Conv2D(filters=64, kernel_size=(3,3), strides=(1,1), padding='same'),\n",
    "    layers.Activation('relu'),\n",
    "    layers.MaxPooling2D(pool_size=(2,2), strides=(2,2), padding='valid'),\n",
    "    \n",
    "    \n",
    "    layers.Conv2D(filters=128, kernel_size=(3,3), strides=(1,1), padding='same'),\n",
    "    layers.Activation('relu'),\n",
    "    layers.Conv2D(filters=128, kernel_size=(3,3), strides=(1,1), padding='same'),\n",
    "    layers.Activation('relu'),\n",
    "    layers.MaxPooling2D(pool_size=(2,2), strides=(2,2), padding='valid'),\n",
    "    \n",
    "    layers.Conv2D(filters=256, kernel_size=(3,3), strides=(1,1), padding='same'),\n",
    "    layers.Activation('relu'),\n",
    "    layers.Conv2D(filters=256, kernel_size=(3,3), strides=(1,1), padding='same'),\n",
    "    layers.Activation('relu'),\n",
    "    layers.Conv2D(filters=256, kernel_size=(3,3), strides=(1,1), padding='same'),\n",
    "    layers.Activation('relu'),\n",
    "    layers.MaxPooling2D(pool_size=(2,2), strides=(2,2), padding='valid'),\n",
    "    \n",
    "    \n",
    "    layers.Conv2D(filters=256, kernel_size=(3,3), strides=(1,1), padding='same'),\n",
    "    layers.Activation('relu'),\n",
    "    layers.Conv2D(filters=256, kernel_size=(3,3), strides=(1,1), padding='same'),\n",
    "    layers.Activation('relu'),\n",
    "    layers.Conv2D(filters=256, kernel_size=(3,3), strides=(1,1), padding='same'),\n",
    "    layers.Activation('relu'),\n",
    "    layers.MaxPooling2D(pool_size=(2,2), strides=(2,2), padding='valid'),\n",
    "    \n",
    "    \n",
    "    layers.Flatten(),\n",
    "    \n",
    "    layers.Dense(units=4096),\n",
    "    layers.Activation('relu'),\n",
    "    layers.Dropout(0.5),\n",
    "    \n",
    "    layers.Dense(units=4096),\n",
    "    layers.Activation('relu'),\n",
    "    layers.Dropout(0.5),\n",
    "\n",
    "    layers.Dense(10),\n",
    "    layers.Activation('softmax')\n",
    "])\n",
    "\n",
    "first_vgg_16_model.summary()"
   ]
  },
  {
   "cell_type": "code",
   "execution_count": 7,
   "metadata": {
    "execution": {
     "iopub.execute_input": "2021-07-18T19:29:56.279209Z",
     "iopub.status.busy": "2021-07-18T19:29:56.278872Z",
     "iopub.status.idle": "2021-07-18T19:29:56.294518Z",
     "shell.execute_reply": "2021-07-18T19:29:56.293624Z",
     "shell.execute_reply.started": "2021-07-18T19:29:56.279173Z"
    }
   },
   "outputs": [],
   "source": [
    "first_vgg_16_model.compile(\n",
    "    optimizer=keras.optimizers.Adam(learning_rate=0.0001), \n",
    "    loss='categorical_crossentropy', \n",
    "    metrics=['accuracy']\n",
    ")"
   ]
  },
  {
   "cell_type": "code",
   "execution_count": 8,
   "metadata": {
    "execution": {
     "iopub.execute_input": "2021-07-18T19:29:56.297919Z",
     "iopub.status.busy": "2021-07-18T19:29:56.297504Z",
     "iopub.status.idle": "2021-07-18T19:56:32.762137Z",
     "shell.execute_reply": "2021-07-18T19:56:32.761267Z",
     "shell.execute_reply.started": "2021-07-18T19:29:56.297878Z"
    }
   },
   "outputs": [
    {
     "name": "stdout",
     "output_type": "stream",
     "text": [
      "Epoch 1/50\n",
      "625/625 [==============================] - 38s 49ms/step - loss: 2.1446 - accuracy: 0.1888 - val_loss: 1.8183 - val_accuracy: 0.3133\n",
      "Epoch 2/50\n",
      "625/625 [==============================] - 33s 53ms/step - loss: 1.8259 - accuracy: 0.3219 - val_loss: 1.6628 - val_accuracy: 0.3864\n",
      "Epoch 3/50\n",
      "625/625 [==============================] - 32s 50ms/step - loss: 1.6840 - accuracy: 0.3820 - val_loss: 1.5691 - val_accuracy: 0.4149\n",
      "Epoch 4/50\n",
      "625/625 [==============================] - 33s 52ms/step - loss: 1.5698 - accuracy: 0.4323 - val_loss: 1.5170 - val_accuracy: 0.4473\n",
      "Epoch 5/50\n",
      "625/625 [==============================] - 31s 50ms/step - loss: 1.5018 - accuracy: 0.4576 - val_loss: 1.4936 - val_accuracy: 0.4527\n",
      "Epoch 6/50\n",
      "625/625 [==============================] - 32s 52ms/step - loss: 1.4447 - accuracy: 0.4805 - val_loss: 1.4141 - val_accuracy: 0.4863\n",
      "Epoch 7/50\n",
      "625/625 [==============================] - 31s 50ms/step - loss: 1.3960 - accuracy: 0.5002 - val_loss: 1.3486 - val_accuracy: 0.5127\n",
      "Epoch 8/50\n",
      "625/625 [==============================] - 32s 51ms/step - loss: 1.3444 - accuracy: 0.5158 - val_loss: 1.3675 - val_accuracy: 0.5137\n",
      "Epoch 9/50\n",
      "625/625 [==============================] - 33s 53ms/step - loss: 1.3069 - accuracy: 0.5298 - val_loss: 1.2667 - val_accuracy: 0.5474\n",
      "Epoch 10/50\n",
      "625/625 [==============================] - 31s 50ms/step - loss: 1.2685 - accuracy: 0.5463 - val_loss: 1.2311 - val_accuracy: 0.5606\n",
      "Epoch 11/50\n",
      "625/625 [==============================] - 32s 51ms/step - loss: 1.2387 - accuracy: 0.5606 - val_loss: 1.2381 - val_accuracy: 0.5562\n",
      "Epoch 12/50\n",
      "625/625 [==============================] - 32s 51ms/step - loss: 1.1989 - accuracy: 0.5706 - val_loss: 1.2001 - val_accuracy: 0.5698\n",
      "Epoch 13/50\n",
      "625/625 [==============================] - 32s 51ms/step - loss: 1.1671 - accuracy: 0.5868 - val_loss: 1.1550 - val_accuracy: 0.5888\n",
      "Epoch 14/50\n",
      "625/625 [==============================] - 33s 52ms/step - loss: 1.1421 - accuracy: 0.5961 - val_loss: 1.1314 - val_accuracy: 0.5989\n",
      "Epoch 15/50\n",
      "625/625 [==============================] - 31s 50ms/step - loss: 1.1176 - accuracy: 0.6027 - val_loss: 1.1295 - val_accuracy: 0.5947\n",
      "Epoch 16/50\n",
      "625/625 [==============================] - 32s 52ms/step - loss: 1.0922 - accuracy: 0.6151 - val_loss: 1.0932 - val_accuracy: 0.6144\n",
      "Epoch 17/50\n",
      "625/625 [==============================] - 31s 49ms/step - loss: 1.0687 - accuracy: 0.6242 - val_loss: 1.0732 - val_accuracy: 0.6201\n",
      "Epoch 18/50\n",
      "625/625 [==============================] - 32s 52ms/step - loss: 1.0628 - accuracy: 0.6301 - val_loss: 1.0701 - val_accuracy: 0.6210\n",
      "Epoch 19/50\n",
      "625/625 [==============================] - 31s 49ms/step - loss: 1.0358 - accuracy: 0.6345 - val_loss: 1.0594 - val_accuracy: 0.6306\n",
      "Epoch 20/50\n",
      "625/625 [==============================] - 33s 53ms/step - loss: 1.0075 - accuracy: 0.6468 - val_loss: 1.0530 - val_accuracy: 0.6316\n",
      "Epoch 21/50\n",
      "625/625 [==============================] - 33s 52ms/step - loss: 1.0121 - accuracy: 0.6437 - val_loss: 1.0336 - val_accuracy: 0.6406\n",
      "Epoch 22/50\n",
      "625/625 [==============================] - 30s 48ms/step - loss: 0.9831 - accuracy: 0.6534 - val_loss: 0.9941 - val_accuracy: 0.6537\n",
      "Epoch 23/50\n",
      "625/625 [==============================] - 33s 53ms/step - loss: 0.9719 - accuracy: 0.6565 - val_loss: 0.9855 - val_accuracy: 0.6531\n",
      "Epoch 24/50\n",
      "625/625 [==============================] - 31s 49ms/step - loss: 0.9481 - accuracy: 0.6707 - val_loss: 0.9768 - val_accuracy: 0.6545\n",
      "Epoch 25/50\n",
      "625/625 [==============================] - 33s 52ms/step - loss: 0.9386 - accuracy: 0.6732 - val_loss: 0.9861 - val_accuracy: 0.6548\n",
      "Epoch 26/50\n",
      "625/625 [==============================] - 30s 48ms/step - loss: 0.9299 - accuracy: 0.6769 - val_loss: 0.9261 - val_accuracy: 0.6819\n",
      "Epoch 27/50\n",
      "625/625 [==============================] - 33s 53ms/step - loss: 0.9106 - accuracy: 0.6815 - val_loss: 0.9673 - val_accuracy: 0.6700\n",
      "Epoch 28/50\n",
      "625/625 [==============================] - 31s 49ms/step - loss: 0.9075 - accuracy: 0.6791 - val_loss: 0.9285 - val_accuracy: 0.6783\n",
      "Epoch 29/50\n",
      "625/625 [==============================] - 33s 53ms/step - loss: 0.8817 - accuracy: 0.6920 - val_loss: 0.9401 - val_accuracy: 0.6750\n",
      "Epoch 30/50\n",
      "625/625 [==============================] - 33s 52ms/step - loss: 0.8797 - accuracy: 0.6915 - val_loss: 0.9264 - val_accuracy: 0.6773\n",
      "Epoch 31/50\n",
      "625/625 [==============================] - 30s 48ms/step - loss: 0.8738 - accuracy: 0.6945 - val_loss: 0.8947 - val_accuracy: 0.6849\n",
      "Epoch 32/50\n",
      "625/625 [==============================] - 32s 51ms/step - loss: 0.8583 - accuracy: 0.7019 - val_loss: 0.8763 - val_accuracy: 0.6941\n",
      "Epoch 33/50\n",
      "625/625 [==============================] - 31s 49ms/step - loss: 0.8359 - accuracy: 0.7112 - val_loss: 0.8784 - val_accuracy: 0.6970\n",
      "Epoch 34/50\n",
      "625/625 [==============================] - 32s 51ms/step - loss: 0.8421 - accuracy: 0.7074 - val_loss: 0.9054 - val_accuracy: 0.6909\n",
      "Epoch 35/50\n",
      "625/625 [==============================] - 31s 50ms/step - loss: 0.8181 - accuracy: 0.7113 - val_loss: 0.8358 - val_accuracy: 0.7106\n",
      "Epoch 36/50\n",
      "625/625 [==============================] - 32s 51ms/step - loss: 0.8020 - accuracy: 0.7229 - val_loss: 0.8449 - val_accuracy: 0.7096\n",
      "Epoch 37/50\n",
      "625/625 [==============================] - 32s 50ms/step - loss: 0.8093 - accuracy: 0.7127 - val_loss: 0.8485 - val_accuracy: 0.7093\n",
      "Epoch 38/50\n",
      "625/625 [==============================] - 31s 49ms/step - loss: 0.7944 - accuracy: 0.7222 - val_loss: 0.8468 - val_accuracy: 0.7063\n",
      "Epoch 39/50\n",
      "625/625 [==============================] - 32s 51ms/step - loss: 0.7954 - accuracy: 0.7224 - val_loss: 0.8313 - val_accuracy: 0.7090\n",
      "Epoch 40/50\n",
      "625/625 [==============================] - 31s 50ms/step - loss: 0.7816 - accuracy: 0.7291 - val_loss: 0.8531 - val_accuracy: 0.7112\n",
      "Epoch 41/50\n",
      "625/625 [==============================] - 33s 53ms/step - loss: 0.7711 - accuracy: 0.7293 - val_loss: 0.8333 - val_accuracy: 0.7107\n",
      "Epoch 42/50\n",
      "625/625 [==============================] - 33s 52ms/step - loss: 0.7725 - accuracy: 0.7311 - val_loss: 0.8464 - val_accuracy: 0.7069\n",
      "Epoch 43/50\n",
      "625/625 [==============================] - 31s 49ms/step - loss: 0.7666 - accuracy: 0.7349 - val_loss: 0.8018 - val_accuracy: 0.7247\n",
      "Epoch 44/50\n",
      "625/625 [==============================] - 32s 52ms/step - loss: 0.7511 - accuracy: 0.7384 - val_loss: 0.8345 - val_accuracy: 0.7098\n",
      "Epoch 45/50\n",
      "625/625 [==============================] - 31s 50ms/step - loss: 0.7538 - accuracy: 0.7392 - val_loss: 0.8391 - val_accuracy: 0.7076\n",
      "Epoch 46/50\n",
      "625/625 [==============================] - 32s 51ms/step - loss: 0.7347 - accuracy: 0.7444 - val_loss: 0.7931 - val_accuracy: 0.7269\n",
      "Epoch 47/50\n",
      "625/625 [==============================] - 30s 49ms/step - loss: 0.7334 - accuracy: 0.7457 - val_loss: 0.7994 - val_accuracy: 0.7268\n",
      "Epoch 48/50\n",
      "625/625 [==============================] - 33s 53ms/step - loss: 0.7302 - accuracy: 0.7479 - val_loss: 0.8007 - val_accuracy: 0.7206\n",
      "Epoch 49/50\n",
      "625/625 [==============================] - 31s 49ms/step - loss: 0.7078 - accuracy: 0.7542 - val_loss: 0.8006 - val_accuracy: 0.7245\n",
      "Epoch 50/50\n",
      "625/625 [==============================] - 33s 53ms/step - loss: 0.7066 - accuracy: 0.7548 - val_loss: 0.7722 - val_accuracy: 0.7305\n"
     ]
    }
   ],
   "source": [
    "h1 = first_vgg_16_model.fit(train_batch, \n",
    "              epochs=50,\n",
    "              steps_per_epoch = 40000 // BATCH_SIZE,\n",
    "              validation_data = valid_batch,\n",
    "              validation_steps = 10000 // BATCH_SIZE,\n",
    "              verbose=1\n",
    "             )"
   ]
  },
  {
   "cell_type": "markdown",
   "metadata": {},
   "source": [
    "# Results with Lesser Augmentation on VGG-16 Model"
   ]
  },
  {
   "cell_type": "code",
   "execution_count": 9,
   "metadata": {
    "execution": {
     "iopub.execute_input": "2021-07-18T19:56:32.764447Z",
     "iopub.status.busy": "2021-07-18T19:56:32.764072Z",
     "iopub.status.idle": "2021-07-18T19:56:33.074609Z",
     "shell.execute_reply": "2021-07-18T19:56:33.073822Z",
     "shell.execute_reply.started": "2021-07-18T19:56:32.764405Z"
    }
   },
   "outputs": [
    {
     "data": {
      "image/png": "[encoded data removed]",
      "text/plain": [
       "<Figure size 1080x360 with 2 Axes>"
      ]
     },
     "metadata": {
      "needs_background": "light"
     },
     "output_type": "display_data"
    }
   ],
   "source": [
    "plt.figure(figsize=(15,5))\n",
    "plt.subplot(1,2,1)\n",
    "plt.plot(h1.history['accuracy'], '--', label='train accuracy')\n",
    "plt.plot(h1.history['val_accuracy'], '--', label = 'validation accuracy')\n",
    "plt.xlabel('Epoch')\n",
    "plt.ylabel('Accuracy')\n",
    "plt.grid(True)\n",
    "plt.legend(loc='lower right')\n",
    "\n",
    "plt.subplot(1,2,2)\n",
    "plt.plot(h1.history['loss'], '--', label='train loss')\n",
    "plt.plot(h1.history['val_loss'], '--', label='validation loss')\n",
    "plt.xlabel('Epoch')\n",
    "plt.ylabel('Loss')\n",
    "plt.grid(True)\n",
    "plt.legend(loc='upper right')\n",
    "\n",
    "plt.show()"
   ]
  },
  {
   "cell_type": "code",
   "execution_count": 10,
   "metadata": {
    "execution": {
     "iopub.execute_input": "2021-07-18T19:56:33.078104Z",
     "iopub.status.busy": "2021-07-18T19:56:33.077818Z",
     "iopub.status.idle": "2021-07-18T19:56:38.702775Z",
     "shell.execute_reply": "2021-07-18T19:56:38.701899Z",
     "shell.execute_reply.started": "2021-07-18T19:56:33.078076Z"
    }
   },
   "outputs": [
    {
     "name": "stdout",
     "output_type": "stream",
     "text": [
      "157/157 [==============================] - 6s 35ms/step - loss: 0.8002 - accuracy: 0.7263\n",
      "\n",
      "Test Accuracy: 0.7263000011444092\n",
      "\n",
      "Test Loss: 0.8001962304115295\n"
     ]
    }
   ],
   "source": [
    "test_loss, test_acc = first_vgg_16_model.evaluate(test_batch)\n",
    "print('\\nTest Accuracy:', test_acc)\n",
    "print('\\nTest Loss:', test_loss)"
   ]
  },
  {
   "cell_type": "markdown",
   "metadata": {},
   "source": [
    "# Greater Augmentation"
   ]
  },
  {
   "cell_type": "code",
   "execution_count": 11,
   "metadata": {
    "execution": {
     "iopub.execute_input": "2021-07-18T19:56:38.706056Z",
     "iopub.status.busy": "2021-07-18T19:56:38.705766Z",
     "iopub.status.idle": "2021-07-18T19:56:38.715501Z",
     "shell.execute_reply": "2021-07-18T19:56:38.714608Z",
     "shell.execute_reply.started": "2021-07-18T19:56:38.706027Z"
    }
   },
   "outputs": [],
   "source": [
    "train2_gen = ImageDataGenerator(\n",
    "    featurewise_center=False,\n",
    "    samplewise_center=False,\n",
    "    featurewise_std_normalization=False,\n",
    "    samplewise_std_normalization=False,\n",
    "    zca_whitening=False,\n",
    "    zca_epsilon=1e-06,\n",
    "    rotation_range=30,\n",
    "    width_shift_range=0.2,\n",
    "    height_shift_range=0.2,\n",
    "    shear_range=0.2,\n",
    "    zoom_range=0.3,\n",
    "    channel_shift_range=0.,\n",
    "    fill_mode='nearest',\n",
    "    cval=0.,\n",
    "    horizontal_flip=True,\n",
    "    vertical_flip=False,\n",
    "    rescale=None,\n",
    "    preprocessing_function=tf.keras.applications.vgg16.preprocess_input,\n",
    "    data_format=None,\n",
    "    dtype=tf.float32,\n",
    "    validation_split=0.2)\n",
    "\n",
    "test2_gen = ImageDataGenerator(\n",
    "    featurewise_center=False,\n",
    "    samplewise_center=False,\n",
    "    featurewise_std_normalization=False,\n",
    "    samplewise_std_normalization=False,\n",
    "    zca_whitening=False,\n",
    "    zca_epsilon=1e-06,\n",
    "    rotation_range=30,\n",
    "    width_shift_range=0.2,\n",
    "    height_shift_range=0.2,\n",
    "    shear_range=0.2,\n",
    "    zoom_range=0.3,\n",
    "    channel_shift_range=0.,\n",
    "    fill_mode='nearest',\n",
    "    cval=0.,\n",
    "    horizontal_flip=True,\n",
    "    vertical_flip=False,\n",
    "    rescale=None,\n",
    "    preprocessing_function=tf.keras.applications.vgg16.preprocess_input,\n",
    "    data_format=None,\n",
    "    dtype=tf.float32,)"
   ]
  },
  {
   "cell_type": "code",
   "execution_count": 12,
   "metadata": {
    "execution": {
     "iopub.execute_input": "2021-07-18T19:56:38.717171Z",
     "iopub.status.busy": "2021-07-18T19:56:38.716819Z",
     "iopub.status.idle": "2021-07-18T19:56:38.967751Z",
     "shell.execute_reply": "2021-07-18T19:56:38.966786Z",
     "shell.execute_reply.started": "2021-07-18T19:56:38.717133Z"
    }
   },
   "outputs": [],
   "source": [
    "train2_batch = train2_gen.flow(\n",
    "    X_train,Y_train,\n",
    "    batch_size = BATCH_SIZE,\n",
    "    subset = \"training\",\n",
    "    seed = SEED\n",
    ")\n",
    "\n",
    "valid2_batch = train2_gen.flow(\n",
    "    X_train,Y_train,\n",
    "    batch_size = BATCH_SIZE,\n",
    "    subset = \"validation\",\n",
    "    seed = SEED\n",
    ")\n",
    "\n",
    "test2_batch = test2_gen.flow(\n",
    "    X_test,Y_test,\n",
    "    batch_size = BATCH_SIZE,\n",
    "    seed = SEED,\n",
    "    shuffle = False\n",
    "    \n",
    ")"
   ]
  },
  {
   "cell_type": "code",
   "execution_count": 13,
   "metadata": {
    "execution": {
     "iopub.execute_input": "2021-07-18T19:56:38.969786Z",
     "iopub.status.busy": "2021-07-18T19:56:38.969395Z",
     "iopub.status.idle": "2021-07-18T19:56:39.157045Z",
     "shell.execute_reply": "2021-07-18T19:56:39.156288Z",
     "shell.execute_reply.started": "2021-07-18T19:56:38.969745Z"
    }
   },
   "outputs": [
    {
     "name": "stdout",
     "output_type": "stream",
     "text": [
      "Model: \"sequential_1\"\n",
      "_________________________________________________________________\n",
      "Layer (type)                 Output Shape              Param #   \n",
      "=================================================================\n",
      "conv2d_10 (Conv2D)           (None, 32, 32, 64)        1792      \n",
      "_________________________________________________________________\n",
      "activation_13 (Activation)   (None, 32, 32, 64)        0         \n",
      "_________________________________________________________________\n",
      "conv2d_11 (Conv2D)           (None, 32, 32, 64)        36928     \n",
      "_________________________________________________________________\n",
      "activation_14 (Activation)   (None, 32, 32, 64)        0         \n",
      "_________________________________________________________________\n",
      "max_pooling2d_4 (MaxPooling2 (None, 16, 16, 64)        0         \n",
      "_________________________________________________________________\n",
      "conv2d_12 (Conv2D)           (None, 16, 16, 128)       73856     \n",
      "_________________________________________________________________\n",
      "activation_15 (Activation)   (None, 16, 16, 128)       0         \n",
      "_________________________________________________________________\n",
      "conv2d_13 (Conv2D)           (None, 16, 16, 128)       147584    \n",
      "_________________________________________________________________\n",
      "activation_16 (Activation)   (None, 16, 16, 128)       0         \n",
      "_________________________________________________________________\n",
      "max_pooling2d_5 (MaxPooling2 (None, 8, 8, 128)         0         \n",
      "_________________________________________________________________\n",
      "conv2d_14 (Conv2D)           (None, 8, 8, 256)         295168    \n",
      "_________________________________________________________________\n",
      "activation_17 (Activation)   (None, 8, 8, 256)         0         \n",
      "_________________________________________________________________\n",
      "conv2d_15 (Conv2D)           (None, 8, 8, 256)         590080    \n",
      "_________________________________________________________________\n",
      "activation_18 (Activation)   (None, 8, 8, 256)         0         \n",
      "_________________________________________________________________\n",
      "conv2d_16 (Conv2D)           (None, 8, 8, 256)         590080    \n",
      "_________________________________________________________________\n",
      "activation_19 (Activation)   (None, 8, 8, 256)         0         \n",
      "_________________________________________________________________\n",
      "max_pooling2d_6 (MaxPooling2 (None, 4, 4, 256)         0         \n",
      "_________________________________________________________________\n",
      "conv2d_17 (Conv2D)           (None, 4, 4, 256)         590080    \n",
      "_________________________________________________________________\n",
      "activation_20 (Activation)   (None, 4, 4, 256)         0         \n",
      "_________________________________________________________________\n",
      "conv2d_18 (Conv2D)           (None, 4, 4, 256)         590080    \n",
      "_________________________________________________________________\n",
      "activation_21 (Activation)   (None, 4, 4, 256)         0         \n",
      "_________________________________________________________________\n",
      "conv2d_19 (Conv2D)           (None, 4, 4, 256)         590080    \n",
      "_________________________________________________________________\n",
      "activation_22 (Activation)   (None, 4, 4, 256)         0         \n",
      "_________________________________________________________________\n",
      "max_pooling2d_7 (MaxPooling2 (None, 2, 2, 256)         0         \n",
      "_________________________________________________________________\n",
      "flatten_1 (Flatten)          (None, 1024)              0         \n",
      "_________________________________________________________________\n",
      "dense_3 (Dense)              (None, 4096)              4198400   \n",
      "_________________________________________________________________\n",
      "activation_23 (Activation)   (None, 4096)              0         \n",
      "_________________________________________________________________\n",
      "dropout_2 (Dropout)          (None, 4096)              0         \n",
      "_________________________________________________________________\n",
      "dense_4 (Dense)              (None, 4096)              16781312  \n",
      "_________________________________________________________________\n",
      "activation_24 (Activation)   (None, 4096)              0         \n",
      "_________________________________________________________________\n",
      "dropout_3 (Dropout)          (None, 4096)              0         \n",
      "_________________________________________________________________\n",
      "dense_5 (Dense)              (None, 10)                40970     \n",
      "_________________________________________________________________\n",
      "activation_25 (Activation)   (None, 10)                0         \n",
      "=================================================================\n",
      "Total params: 24,526,410\n",
      "Trainable params: 24,526,410\n",
      "Non-trainable params: 0\n",
      "_________________________________________________________________\n"
     ]
    }
   ],
   "source": [
    "second_vgg_16_model = keras.Sequential([\n",
    "    ## input layer\n",
    "    keras.Input(shape=X_train.shape[1:]),\n",
    "    \n",
    "    layers.Conv2D(filters=64, kernel_size=(3,3), strides=(1,1), padding='same'),\n",
    "    layers.Activation('relu'),\n",
    "    layers.Conv2D(filters=64, kernel_size=(3,3), strides=(1,1), padding='same'),\n",
    "    layers.Activation('relu'),\n",
    "    layers.MaxPooling2D(pool_size=(2,2), strides=(2,2), padding='valid'),\n",
    "    \n",
    "    \n",
    "    layers.Conv2D(filters=128, kernel_size=(3,3), strides=(1,1), padding='same'),\n",
    "    layers.Activation('relu'),\n",
    "    layers.Conv2D(filters=128, kernel_size=(3,3), strides=(1,1), padding='same'),\n",
    "    layers.Activation('relu'),\n",
    "    layers.MaxPooling2D(pool_size=(2,2), strides=(2,2), padding='valid'),\n",
    "    \n",
    "    layers.Conv2D(filters=256, kernel_size=(3,3), strides=(1,1), padding='same'),\n",
    "    layers.Activation('relu'),\n",
    "    layers.Conv2D(filters=256, kernel_size=(3,3), strides=(1,1), padding='same'),\n",
    "    layers.Activation('relu'),\n",
    "    layers.Conv2D(filters=256, kernel_size=(3,3), strides=(1,1), padding='same'),\n",
    "    layers.Activation('relu'),\n",
    "    layers.MaxPooling2D(pool_size=(2,2), strides=(2,2), padding='valid'),\n",
    "    \n",
    "    \n",
    "    layers.Conv2D(filters=256, kernel_size=(3,3), strides=(1,1), padding='same'),\n",
    "    layers.Activation('relu'),\n",
    "    layers.Conv2D(filters=256, kernel_size=(3,3), strides=(1,1), padding='same'),\n",
    "    layers.Activation('relu'),\n",
    "    layers.Conv2D(filters=256, kernel_size=(3,3), strides=(1,1), padding='same'),\n",
    "    layers.Activation('relu'),\n",
    "    layers.MaxPooling2D(pool_size=(2,2), strides=(2,2), padding='valid'),\n",
    "    \n",
    "    \n",
    "    layers.Flatten(),\n",
    "    \n",
    "    layers.Dense(units=4096),\n",
    "    layers.Activation('relu'),\n",
    "    layers.Dropout(0.5),\n",
    "    \n",
    "    layers.Dense(units=4096),\n",
    "    layers.Activation('relu'),\n",
    "    layers.Dropout(0.5),\n",
    "\n",
    "    layers.Dense(10),\n",
    "    layers.Activation('softmax')\n",
    "])\n",
    "\n",
    "second_vgg_16_model.summary()"
   ]
  },
  {
   "cell_type": "code",
   "execution_count": 14,
   "metadata": {
    "execution": {
     "iopub.execute_input": "2021-07-18T19:56:39.160272Z",
     "iopub.status.busy": "2021-07-18T19:56:39.159996Z",
     "iopub.status.idle": "2021-07-18T19:56:39.174307Z",
     "shell.execute_reply": "2021-07-18T19:56:39.173298Z",
     "shell.execute_reply.started": "2021-07-18T19:56:39.160244Z"
    }
   },
   "outputs": [],
   "source": [
    "second_vgg_16_model.compile(\n",
    "    optimizer=keras.optimizers.Adam(learning_rate=0.0001), \n",
    "    loss='categorical_crossentropy', \n",
    "    metrics=['accuracy']\n",
    ")"
   ]
  },
  {
   "cell_type": "code",
   "execution_count": 15,
   "metadata": {
    "execution": {
     "iopub.execute_input": "2021-07-18T19:56:39.176517Z",
     "iopub.status.busy": "2021-07-18T19:56:39.176012Z",
     "iopub.status.idle": "2021-07-18T20:23:54.292453Z",
     "shell.execute_reply": "2021-07-18T20:23:54.291668Z",
     "shell.execute_reply.started": "2021-07-18T19:56:39.176412Z"
    }
   },
   "outputs": [
    {
     "name": "stdout",
     "output_type": "stream",
     "text": [
      "Epoch 1/50\n",
      "625/625 [==============================] - 35s 55ms/step - loss: 2.0391 - accuracy: 0.2296 - val_loss: 1.6499 - val_accuracy: 0.3949\n",
      "Epoch 2/50\n",
      "625/625 [==============================] - 32s 52ms/step - loss: 1.5941 - accuracy: 0.4163 - val_loss: 1.4250 - val_accuracy: 0.4810\n",
      "Epoch 3/50\n",
      "625/625 [==============================] - 34s 54ms/step - loss: 1.4187 - accuracy: 0.4871 - val_loss: 1.3015 - val_accuracy: 0.5394\n",
      "Epoch 4/50\n",
      "625/625 [==============================] - 32s 51ms/step - loss: 1.2910 - accuracy: 0.5339 - val_loss: 1.2273 - val_accuracy: 0.5585\n",
      "Epoch 5/50\n",
      "625/625 [==============================] - 34s 55ms/step - loss: 1.2044 - accuracy: 0.5683 - val_loss: 1.1501 - val_accuracy: 0.5853\n",
      "Epoch 6/50\n",
      "625/625 [==============================] - 32s 51ms/step - loss: 1.1337 - accuracy: 0.5975 - val_loss: 1.0624 - val_accuracy: 0.6174\n",
      "Epoch 7/50\n",
      "625/625 [==============================] - 34s 55ms/step - loss: 1.0638 - accuracy: 0.6217 - val_loss: 1.0557 - val_accuracy: 0.6260\n",
      "Epoch 8/50\n",
      "625/625 [==============================] - 32s 51ms/step - loss: 1.0026 - accuracy: 0.6466 - val_loss: 0.9847 - val_accuracy: 0.6545\n",
      "Epoch 9/50\n",
      "625/625 [==============================] - 34s 54ms/step - loss: 0.9559 - accuracy: 0.6622 - val_loss: 0.9619 - val_accuracy: 0.6647\n",
      "Epoch 10/50\n",
      "625/625 [==============================] - 32s 50ms/step - loss: 0.9354 - accuracy: 0.6751 - val_loss: 0.9669 - val_accuracy: 0.6707\n",
      "Epoch 11/50\n",
      "625/625 [==============================] - 34s 54ms/step - loss: 0.8966 - accuracy: 0.6906 - val_loss: 0.8813 - val_accuracy: 0.6931\n",
      "Epoch 12/50\n",
      "625/625 [==============================] - 33s 54ms/step - loss: 0.8466 - accuracy: 0.7046 - val_loss: 0.8761 - val_accuracy: 0.6961\n",
      "Epoch 13/50\n",
      "625/625 [==============================] - 31s 50ms/step - loss: 0.8301 - accuracy: 0.7131 - val_loss: 0.8147 - val_accuracy: 0.7169\n",
      "Epoch 14/50\n",
      "625/625 [==============================] - 34s 54ms/step - loss: 0.8054 - accuracy: 0.7206 - val_loss: 0.8493 - val_accuracy: 0.7121\n",
      "Epoch 15/50\n",
      "625/625 [==============================] - 32s 50ms/step - loss: 0.7727 - accuracy: 0.7315 - val_loss: 0.8257 - val_accuracy: 0.7160\n",
      "Epoch 16/50\n",
      "625/625 [==============================] - 34s 55ms/step - loss: 0.7531 - accuracy: 0.7361 - val_loss: 0.7827 - val_accuracy: 0.7317\n",
      "Epoch 17/50\n",
      "625/625 [==============================] - 32s 51ms/step - loss: 0.7129 - accuracy: 0.7517 - val_loss: 0.7418 - val_accuracy: 0.7417\n",
      "Epoch 18/50\n",
      "625/625 [==============================] - 34s 54ms/step - loss: 0.7045 - accuracy: 0.7567 - val_loss: 0.7656 - val_accuracy: 0.7395\n",
      "Epoch 19/50\n",
      "625/625 [==============================] - 31s 49ms/step - loss: 0.6912 - accuracy: 0.7633 - val_loss: 0.7992 - val_accuracy: 0.7285\n",
      "Epoch 20/50\n",
      "625/625 [==============================] - 33s 53ms/step - loss: 0.6828 - accuracy: 0.7635 - val_loss: 0.7553 - val_accuracy: 0.7400\n",
      "Epoch 21/50\n",
      "625/625 [==============================] - 34s 55ms/step - loss: 0.6617 - accuracy: 0.7707 - val_loss: 0.6922 - val_accuracy: 0.7634\n",
      "Epoch 22/50\n",
      "625/625 [==============================] - 31s 50ms/step - loss: 0.6387 - accuracy: 0.7776 - val_loss: 0.7160 - val_accuracy: 0.7525\n",
      "Epoch 23/50\n",
      "625/625 [==============================] - 34s 54ms/step - loss: 0.6166 - accuracy: 0.7875 - val_loss: 0.7084 - val_accuracy: 0.7548\n",
      "Epoch 24/50\n",
      "625/625 [==============================] - 31s 49ms/step - loss: 0.6183 - accuracy: 0.7885 - val_loss: 0.6791 - val_accuracy: 0.7686\n",
      "Epoch 25/50\n",
      "625/625 [==============================] - 34s 54ms/step - loss: 0.6057 - accuracy: 0.7912 - val_loss: 0.6883 - val_accuracy: 0.7696\n",
      "Epoch 26/50\n",
      "625/625 [==============================] - 31s 50ms/step - loss: 0.5819 - accuracy: 0.7987 - val_loss: 0.6801 - val_accuracy: 0.7728\n",
      "Epoch 27/50\n",
      "625/625 [==============================] - 33s 53ms/step - loss: 0.5811 - accuracy: 0.7978 - val_loss: 0.6778 - val_accuracy: 0.7663\n",
      "Epoch 28/50\n",
      "625/625 [==============================] - 31s 50ms/step - loss: 0.5685 - accuracy: 0.8032 - val_loss: 0.6587 - val_accuracy: 0.7798\n",
      "Epoch 29/50\n",
      "625/625 [==============================] - 34s 54ms/step - loss: 0.5477 - accuracy: 0.8106 - val_loss: 0.6513 - val_accuracy: 0.7827\n",
      "Epoch 30/50\n",
      "625/625 [==============================] - 34s 54ms/step - loss: 0.5456 - accuracy: 0.8141 - val_loss: 0.6409 - val_accuracy: 0.7783\n",
      "Epoch 31/50\n",
      "625/625 [==============================] - 32s 51ms/step - loss: 0.5371 - accuracy: 0.8137 - val_loss: 0.6407 - val_accuracy: 0.7826\n",
      "Epoch 32/50\n",
      "625/625 [==============================] - 33s 53ms/step - loss: 0.5316 - accuracy: 0.8175 - val_loss: 0.6438 - val_accuracy: 0.7827\n",
      "Epoch 33/50\n",
      "625/625 [==============================] - 31s 50ms/step - loss: 0.5188 - accuracy: 0.8201 - val_loss: 0.6295 - val_accuracy: 0.7812\n",
      "Epoch 34/50\n",
      "625/625 [==============================] - 34s 54ms/step - loss: 0.5133 - accuracy: 0.8223 - val_loss: 0.6779 - val_accuracy: 0.7733\n",
      "Epoch 35/50\n",
      "625/625 [==============================] - 31s 49ms/step - loss: 0.4999 - accuracy: 0.8296 - val_loss: 0.6116 - val_accuracy: 0.7925\n",
      "Epoch 36/50\n",
      "625/625 [==============================] - 34s 54ms/step - loss: 0.4953 - accuracy: 0.8301 - val_loss: 0.6262 - val_accuracy: 0.7899\n",
      "Epoch 37/50\n",
      "625/625 [==============================] - 31s 50ms/step - loss: 0.4753 - accuracy: 0.8370 - val_loss: 0.5992 - val_accuracy: 0.7951\n",
      "Epoch 38/50\n",
      "625/625 [==============================] - 34s 55ms/step - loss: 0.4766 - accuracy: 0.8360 - val_loss: 0.6106 - val_accuracy: 0.7938\n",
      "Epoch 39/50\n",
      "625/625 [==============================] - 32s 51ms/step - loss: 0.4807 - accuracy: 0.8337 - val_loss: 0.5953 - val_accuracy: 0.7983\n",
      "Epoch 40/50\n",
      "625/625 [==============================] - 33s 53ms/step - loss: 0.4598 - accuracy: 0.8400 - val_loss: 0.5755 - val_accuracy: 0.8085\n",
      "Epoch 41/50\n",
      "625/625 [==============================] - 33s 53ms/step - loss: 0.4524 - accuracy: 0.8457 - val_loss: 0.5752 - val_accuracy: 0.8116\n",
      "Epoch 42/50\n",
      "625/625 [==============================] - 31s 50ms/step - loss: 0.4440 - accuracy: 0.8465 - val_loss: 0.6238 - val_accuracy: 0.7889\n",
      "Epoch 43/50\n",
      "625/625 [==============================] - 33s 52ms/step - loss: 0.4358 - accuracy: 0.8484 - val_loss: 0.5651 - val_accuracy: 0.8085\n",
      "Epoch 44/50\n",
      "625/625 [==============================] - 31s 50ms/step - loss: 0.4345 - accuracy: 0.8501 - val_loss: 0.5932 - val_accuracy: 0.8090\n",
      "Epoch 45/50\n",
      "625/625 [==============================] - 33s 53ms/step - loss: 0.4299 - accuracy: 0.8483 - val_loss: 0.5741 - val_accuracy: 0.8129\n",
      "Epoch 46/50\n",
      "625/625 [==============================] - 32s 51ms/step - loss: 0.4195 - accuracy: 0.8551 - val_loss: 0.5829 - val_accuracy: 0.8061\n",
      "Epoch 47/50\n",
      "625/625 [==============================] - 33s 52ms/step - loss: 0.4233 - accuracy: 0.8538 - val_loss: 0.5651 - val_accuracy: 0.8146\n",
      "Epoch 48/50\n",
      "625/625 [==============================] - 31s 50ms/step - loss: 0.4131 - accuracy: 0.8591 - val_loss: 0.5663 - val_accuracy: 0.8107\n",
      "Epoch 49/50\n",
      "625/625 [==============================] - 33s 53ms/step - loss: 0.4074 - accuracy: 0.8594 - val_loss: 0.5627 - val_accuracy: 0.8131\n",
      "Epoch 50/50\n",
      "625/625 [==============================] - 34s 54ms/step - loss: 0.3958 - accuracy: 0.8635 - val_loss: 0.5573 - val_accuracy: 0.8174\n"
     ]
    }
   ],
   "source": [
    "h2 = second_vgg_16_model.fit(train2_batch, \n",
    "              epochs=50,\n",
    "              steps_per_epoch = 40000 // BATCH_SIZE,\n",
    "              validation_data = valid2_batch,\n",
    "              validation_steps = 10000 // BATCH_SIZE,\n",
    "              verbose=1\n",
    "             )"
   ]
  },
  {
   "cell_type": "markdown",
   "metadata": {},
   "source": [
    "# Results with Greater Augmentation on VGG-16 Model"
   ]
  },
  {
   "cell_type": "code",
   "execution_count": 16,
   "metadata": {
    "execution": {
     "iopub.execute_input": "2021-07-18T20:23:54.294546Z",
     "iopub.status.busy": "2021-07-18T20:23:54.294122Z",
     "iopub.status.idle": "2021-07-18T20:23:54.593682Z",
     "shell.execute_reply": "2021-07-18T20:23:54.592745Z",
     "shell.execute_reply.started": "2021-07-18T20:23:54.294506Z"
    }
   },
   "outputs": [
    {
     "data": {
      "image/png": "[encoded data removed]",
      "text/plain": [
       "<Figure size 1080x360 with 2 Axes>"
      ]
     },
     "metadata": {
      "needs_background": "light"
     },
     "output_type": "display_data"
    }
   ],
   "source": [
    "plt.figure(figsize=(15,5))\n",
    "plt.subplot(1,2,1)\n",
    "plt.plot(h2.history['accuracy'], '--', label='train accuracy')\n",
    "plt.plot(h2.history['val_accuracy'], '--', label = 'validation accuracy')\n",
    "plt.xlabel('Epoch')\n",
    "plt.ylabel('Accuracy')\n",
    "plt.grid(True)\n",
    "plt.legend(loc='lower right')\n",
    "\n",
    "plt.subplot(1,2,2)\n",
    "plt.plot(h2.history['loss'], '--', label='train loss')\n",
    "plt.plot(h2.history['val_loss'], '--', label='validation loss')\n",
    "plt.xlabel('Epoch')\n",
    "plt.ylabel('Loss')\n",
    "plt.grid(True)\n",
    "plt.legend(loc='upper right')\n",
    "\n",
    "plt.show()"
   ]
  },
  {
   "cell_type": "code",
   "execution_count": 17,
   "metadata": {
    "execution": {
     "iopub.execute_input": "2021-07-18T20:23:54.595567Z",
     "iopub.status.busy": "2021-07-18T20:23:54.595198Z",
     "iopub.status.idle": "2021-07-18T20:24:00.824473Z",
     "shell.execute_reply": "2021-07-18T20:24:00.823710Z",
     "shell.execute_reply.started": "2021-07-18T20:23:54.595529Z"
    }
   },
   "outputs": [
    {
     "name": "stdout",
     "output_type": "stream",
     "text": [
      "157/157 [==============================] - 6s 39ms/step - loss: 0.5821 - accuracy: 0.8100\n",
      "\n",
      "Test Accuracy: 0.5820651650428772\n",
      "\n",
      "Test Loss: 0.8100000023841858\n"
     ]
    }
   ],
   "source": [
    "test2_loss, test2_acc = second_vgg_16_model.evaluate(test2_batch)\n",
    "print('\\nTest Accuracy:', test2_loss)\n",
    "print('\\nTest Loss:', test2_acc)"
   ]
  },
  {
   "cell_type": "markdown",
   "metadata": {},
   "source": [
    "The same architecture with the least amount of augmentation on the same dataset gave a higher accuracy of 72% than the more augmented dataset resulting only 58% of accuracy.\n",
    "\n",
    "Therefore, it can be said that the lesser the augmentation is the greater is the accuracy"
   ]
  },
  {
   "cell_type": "code",
   "execution_count": null,
   "metadata": {},
   "outputs": [],
   "source": []
  }
 ],
 "metadata": {
  "kernelspec": {
   "display_name": "Python 3",
   "language": "python",
   "name": "python3"
  },
  "language_info": {
   "codemirror_mode": {
    "name": "ipython",
    "version": 3
   },
   "file_extension": ".py",
   "mimetype": "text/x-python",
   "name": "python",
   "nbconvert_exporter": "python",
   "pygments_lexer": "ipython3",
   "version": "3.8.10"
  }
 },
 "nbformat": 4,
 "nbformat_minor": 4
}
